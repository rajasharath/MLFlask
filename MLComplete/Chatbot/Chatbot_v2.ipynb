{
 "cells": [
  {
   "cell_type": "code",
   "execution_count": null,
   "metadata": {
    "ExecuteTime": {
     "end_time": "2018-08-06T04:20:51.673422Z",
     "start_time": "2018-08-06T04:20:51.660574Z"
    }
   },
   "outputs": [],
   "source": [
    "# from textblob import TextBlob\n",
    "#from attributegetter import *\n",
    "from generatengrams import ngrammatch\n",
    "from Contexts import *\n",
    "import json\n",
    "from Intents import *\n",
    "import random\n",
    "import os\n",
    "import re"
   ]
  },
  {
   "cell_type": "code",
   "execution_count": 6,
   "metadata": {
    "ExecuteTime": {
     "end_time": "2018-08-06T04:20:52.452207Z",
     "start_time": "2018-08-06T04:20:52.433325Z"
    }
   },
   "outputs": [],
   "source": [
    "def check_actions(current_intent, attributes, context):\n",
    "    '''This function performs the action for the intent\n",
    "    as mentioned in the intent config file'''\n",
    "    '''Performs actions pertaining to current intent\n",
    "    for action in current_intent.actions:\n",
    "        if action.contexts_satisfied(active_contexts):\n",
    "            return perform_action()\n",
    "    '''\n",
    "    for action in current_intent.action:\n",
    "        context = IntentComplete()\n",
    "        return 'action: ' + current_intent.action, context\n",
    "\n",
    "\n",
    "def check_required_params(current_intent, attributes, context):\n",
    "    '''Collects attributes pertaining to the current intent'''\n",
    "    \n",
    "    for para in current_intent.params:\n",
    "        if para.required:\n",
    "            if para.name not in attributes:\n",
    "                #Example of where the context is born, implemented in Contexts.py\n",
    "                if para.name=='RegNo':\n",
    "                    context = GetRegNo()\n",
    "                #returning a random prompt frmo available choices.\n",
    "                return random.choice(para.prompts), context\n",
    "\n",
    "    return None, context\n",
    "\n",
    "\n",
    "def input_processor(user_input, context, attributes, intent):\n",
    "    '''Spellcheck and entity extraction functions go here'''\n",
    "    \n",
    "    # uinput = TextBlob(user_input).correct().string\n",
    "    \n",
    "    #update the attributes, abstract over the entities in user input\n",
    "    attributes, cleaned_input = getattributes(user_input, context, attributes)\n",
    "    \n",
    "    return attributes, cleaned_input\n",
    "\n",
    "def loadIntent(path, intent):\n",
    "    with open(path) as fil:\n",
    "        dat = json.load(fil)\n",
    "        intent = dat[intent]\n",
    "        return Intent(intent['intentname'],intent['Parameters'], intent['actions'])\n",
    "\n",
    "def intentIdentifier(clean_input, context,current_intent):\n",
    "    clean_input = clean_input.lower()\n",
    "    \n",
    "    #Scoring Algorithm, can be changed.\n",
    "    scores = ngrammatch(clean_input)\n",
    "    \n",
    "    #choosing here the intent with the highest score\n",
    "    scores = sorted_by_second = sorted(scores, key=lambda tup: tup[1])\n",
    "    # print clean_input\n",
    "    #print 'scores', scores\n",
    "    print(scores)\n",
    "    print('Selected Intent: ' + clean_input + ' : ' + scores[-1][0])\n",
    "\n",
    "    # If current intent is not none, stick with the ongoing intent else select an intent.\n",
    "    if(current_intent == None): \n",
    "        if(clean_input == \"search\"):\n",
    "            current_intent = loadIntent('params/newparams.cfg', 'SearchStore')\n",
    "        elif(clean_input == 'book'):\n",
    "            current_intent = loadIntent('params/newparams.cfg', 'OrderBook')  \n",
    "        else:\n",
    "            current_intent = loadIntent('params/newparams.cfg', scores[-1][0])\n",
    "        \n",
    "    return current_intent\n",
    "\n",
    "def getattributes(uinput,context,attributes):\n",
    "    '''This function marks the entities in user input, and updates\n",
    "    the attributes dictionary'''\n",
    "    #Can use context to context specific attribute fetching\n",
    "    if context.name.startswith('IntentComplete'):\n",
    "        return attributes, uinput\n",
    "    else:\n",
    "        #Code can be optimised here, loading the same files each time suboptimal \n",
    "        files = os.listdir('./entities/')\n",
    "        entities = {}\n",
    "        for fil in files:\n",
    "            if fil.endswith('.dat'):\n",
    "                lines = open('./entities/'+fil).readlines()\n",
    "                for i, line in enumerate(lines):\n",
    "                    lines[i] = line[:-1]\n",
    "                entities[fil[:-4]] = '|'.join(lines)\n",
    "\n",
    "        #Extract entity and update it in attributes dict\n",
    "        for entity in entities:\n",
    "            for i in entities[entity].split('|'):\n",
    "                if i.lower() in uinput.lower():\n",
    "                    attributes[entity] = i\n",
    "                    \n",
    "        for att in attributes:\n",
    "            print('Attr: ' + att + ' = ' + attributes[att])\n",
    "            \n",
    "        for entity in entities:\n",
    "            uinput = re.sub(entities[entity],r'$'+entity,uinput,flags=re.IGNORECASE)\n",
    "\n",
    "        #Example of where the context is being used to do conditional branching.\n",
    "        if context.name=='GetRegNo' and context.active:\n",
    "            print(attributes)\n",
    "            match = re.search('[0-9]+', uinput)\n",
    "            if match:\n",
    "                uinput = re.sub('[0-9]+', '$regno', uinput)\n",
    "                attributes['RegNo'] = match.group()\n",
    "                context.active = False\n",
    "\n",
    "        return attributes, uinput"
   ]
  },
  {
   "cell_type": "code",
   "execution_count": 8,
   "metadata": {
    "ExecuteTime": {
     "end_time": "2018-08-06T04:20:53.392144Z",
     "start_time": "2018-08-06T04:20:53.381302Z"
    }
   },
   "outputs": [],
   "source": [
    "class Session:\n",
    "    def __init__(self, attributes=None, active_contexts=[FirstGreeting(), IntentComplete() ]):\n",
    "        \n",
    "        '''Initialise a default session'''\n",
    "        \n",
    "        #Active contexts not used yet, can use it to have multiple contexts\n",
    "        self.active_contexts = active_contexts\n",
    "        \n",
    "        #Contexts are flags which control dialogue flow, see Contexts.py        \n",
    "        self.context = FirstGreeting()\n",
    "        \n",
    "        #Intent tracks the current state of dialogue\n",
    "        #self.current_intent = First_Greeting()\n",
    "        self.current_intent = None\n",
    "        \n",
    "        #attributes hold the information collected over the conversation\n",
    "        self.attributes = {}\n",
    "        \n",
    "    def update_contexts(self):\n",
    "        '''Not used yet, but is intended to maintain active contexts'''\n",
    "        for context in self.active_contexts:\n",
    "            if context.active:\n",
    "                context.decrease_lifespan()\n",
    "\n",
    "    def reply(self, user_input):\n",
    "        '''Generate response to user input'''\n",
    "        \n",
    "        self.attributes, clean_input = input_processor(user_input, self.context, self.attributes, self.current_intent)\n",
    "        \n",
    "        self.current_intent = intentIdentifier(clean_input, self.context, self.current_intent)\n",
    "        \n",
    "        prompt, self.context = check_required_params(self.current_intent, self.attributes, self.context)\n",
    "\n",
    "        #prompt being None means all parameters satisfied, perform the intent action\n",
    "        if prompt is None:\n",
    "            if self.context.name != 'IntentComplete':\n",
    "                prompt, self.context = check_actions(self.current_intent, self.attributes, self.context)\n",
    "        \n",
    "        #Resets the state after the Intent is complete\n",
    "        if self.context.name == 'IntentComplete':\n",
    "            self.attributes = {}\n",
    "            self.context = FirstGreeting()\n",
    "            self.current_intent = None\n",
    "        \n",
    "        return prompt"
   ]
  },
  {
   "cell_type": "code",
   "execution_count": null,
   "metadata": {
    "ExecuteTime": {
     "end_time": "2018-08-06T04:20:58.656549Z",
     "start_time": "2018-08-06T04:20:54.129029Z"
    }
   },
   "outputs": [
    {
     "name": "stdout",
     "output_type": "stream",
     "text": [
      "BOT: Hi! How may I assist you?\n",
      "[('BabyNameSuggestion', 0.014508005435424791), ('RestaurantBooking', 0.046829640947288004)]\n",
      "Selected Intent: restaurant booking : RestaurantBooking\n",
      "BOT: Please tell us your cuisine preference (Chinese, Tamil, Bengali, ...)\n",
      "Attr: cuisine = Chinese\n",
      "[('BabyNameSuggestion', 0.014508005435424791), ('RestaurantBooking', 0.05595874713521773)]\n",
      "Selected Intent: $cuisine : RestaurantBooking\n",
      "BOT: What is your budget? (Cheap, Expensive, Medium, Costly, ...)\n",
      "Attr: cuisine = Chinese\n",
      "Attr: budget = cheap\n",
      "[('BabyNameSuggestion', 0.014508005435424791), ('RestaurantBooking', 0.023414820473644002)]\n",
      "Selected Intent: $budget : RestaurantBooking\n",
      "BOT: Please tell us your location preference (North, East, ...)\n",
      "Attr: cuisine = Chinese\n",
      "Attr: budget = cheap\n",
      "Attr: location = south\n",
      "[('BabyNameSuggestion', 0.014508005435424791), ('RestaurantBooking', 0.05920550038197098)]\n",
      "Selected Intent: $location : RestaurantBooking\n",
      "BOT: action: BookRestaurant\n",
      "Attr: location = nort\n",
      "[('BabyNameSuggestion', 0.014508005435424791), ('RestaurantBooking', 0.023414820473644002)]\n",
      "Selected Intent: $locationh : RestaurantBooking\n",
      "BOT: Please tell us your cuisine preference (Chinese, Tamil, Bengali, ...)\n",
      "Attr: location = nort\n",
      "Attr: cuisine = Chinese\n",
      "[('BabyNameSuggestion', 0.014508005435424791), ('RestaurantBooking', 0.05595874713521773)]\n",
      "Selected Intent: $cuisine : RestaurantBooking\n",
      "BOT: What is your budget? (Cheap, Expensive, Medium, Costly, ...)\n",
      "Attr: location = nort\n",
      "Attr: cuisine = Chinese\n",
      "Attr: budget = cheap\n",
      "[('BabyNameSuggestion', 0.014508005435424791), ('RestaurantBooking', 0.023414820473644002)]\n",
      "Selected Intent: $budget : RestaurantBooking\n",
      "BOT: action: BookRestaurant\n",
      "Attr: location = nort\n",
      "[('BabyNameSuggestion', 0.014508005435424791), ('RestaurantBooking', 0.023414820473644002)]\n",
      "Selected Intent: $locationh : RestaurantBooking\n",
      "BOT: What type of food do you like?\n",
      "Attr: location = nort\n",
      "Attr: cuisine = Chinese\n",
      "[('BabyNameSuggestion', 0.014508005435424791), ('RestaurantBooking', 0.05595874713521773)]\n",
      "Selected Intent: $cuisine : RestaurantBooking\n",
      "BOT: What is your budget? (Cheap, Expensive, Medium, Costly, ...)\n",
      "Attr: location = nort\n",
      "Attr: cuisine = Chinese\n",
      "Attr: budget = cheap\n",
      "[('BabyNameSuggestion', 0.014508005435424791), ('RestaurantBooking', 0.023414820473644002)]\n",
      "Selected Intent: $budget : RestaurantBooking\n",
      "BOT: action: BookRestaurant\n"
     ]
    }
   ],
   "source": [
    "session = Session()\n",
    "\n",
    "print ('BOT: Hi! How may I assist you?')\n",
    "\n",
    "while True:\n",
    "    \n",
    "    inp = input('User: ')\n",
    "    print ('BOT:', session.reply(inp))"
   ]
  },
  {
   "cell_type": "code",
   "execution_count": null,
   "metadata": {},
   "outputs": [],
   "source": [
    "ngrammatch('book')"
   ]
  },
  {
   "cell_type": "code",
   "execution_count": 16,
   "metadata": {},
   "outputs": [
    {
     "data": {
      "text/plain": [
       "[]"
      ]
     },
     "execution_count": 16,
     "metadata": {},
     "output_type": "execute_result"
    }
   ],
   "source": [
    "x = [1, 2, 3, 4, 5]\n",
    "x[:-5]"
   ]
  },
  {
   "cell_type": "code",
   "execution_count": 8,
   "metadata": {},
   "outputs": [],
   "source": [
    "import pandas as pd\n",
    "\n",
    "# pd.read_"
   ]
  },
  {
   "cell_type": "code",
   "execution_count": 57,
   "metadata": {},
   "outputs": [
    {
     "name": "stdout",
     "output_type": "stream",
     "text": [
      "     Name StartingLetter Ethnicity Region Religion Gender  \\\n",
      "1  aadesh              a   african   asia    islam      m   \n",
      "\n",
      "   NumerologyConstraints  \n",
      "1                    2.0  \n"
     ]
    }
   ],
   "source": [
    "fn_tolower = lambda x : x.strip().lower()\n",
    "\n",
    "body_converters = {\n",
    "        'Name': fn_tolower, 'Gender': fn_tolower, 'StartingLetter': fn_tolower,\n",
    "        'Ethnicity': fn_tolower, 'Religion': fn_tolower, 'Region': fn_tolower, 'Numerology': fn_tolower\n",
    "}\n",
    "df = pd.read_csv('./database/Baby.csv', converters=body_converters)\n",
    "df.head()\n",
    "\n",
    "data = df.query(\"Gender == 'm' & StartingLetter == 'a' & Ethnicity == 'african' & Religion == 'islam' & Region == 'asia' & NumerologyConstraints == '2'\")\n",
    "print(data)\n",
    "# print(\"Choices: \" + \"\\n\".join(list(data[\"RestaurantName\"])))\n",
    "# if data is None:\n",
    "#     print('No data')\n",
    "# else:\n",
    "#     print('Kuch to gadbad he')"
   ]
  },
  {
   "cell_type": "code",
   "execution_count": null,
   "metadata": {},
   "outputs": [],
   "source": []
  }
 ],
 "metadata": {
  "kernelspec": {
   "display_name": "Python 3",
   "language": "python",
   "name": "python3"
  },
  "language_info": {
   "codemirror_mode": {
    "name": "ipython",
    "version": 3
   },
   "file_extension": ".py",
   "mimetype": "text/x-python",
   "name": "python",
   "nbconvert_exporter": "python",
   "pygments_lexer": "ipython3",
   "version": "3.6.5"
  },
  "nbTranslate": {
   "displayLangs": [
    "*"
   ],
   "hotkey": "alt-t",
   "langInMainMenu": true,
   "sourceLang": "en",
   "targetLang": "fr",
   "useGoogleTranslate": true
  }
 },
 "nbformat": 4,
 "nbformat_minor": 2
}
